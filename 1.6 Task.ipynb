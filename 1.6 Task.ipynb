{
 "cells": [
  {
   "cell_type": "markdown",
   "id": "bc428d95-2c12-4431-9732-52d72b490a00",
   "metadata": {},
   "source": [
    "# 1.6 Intro to NLP and Network Analysis"
   ]
  },
  {
   "cell_type": "code",
   "execution_count": 16,
   "id": "0701bf2c-9705-4cc0-92e6-df8bc3db3bdf",
   "metadata": {},
   "outputs": [],
   "source": [
    "# importlibraries\n",
    "import pandas as pd\n",
    "import numpy as np\n",
    "import spacy\n",
    "from spacy import displacy\n",
    "import networkx as nx\n",
    "import os\n",
    "import seaborn as sns\n",
    "import matplotlib.pyplot as plt\n",
    "import scipy\n",
    "import re"
   ]
  },
  {
   "cell_type": "code",
   "execution_count": 17,
   "id": "86c2efce-b773-411c-8f89-35ef2efa1424",
   "metadata": {},
   "outputs": [
    {
     "name": "stdout",
     "output_type": "stream",
     "text": [
      "Collecting en-core-web-sm==3.8.0\n",
      "  Downloading https://github.com/explosion/spacy-models/releases/download/en_core_web_sm-3.8.0/en_core_web_sm-3.8.0-py3-none-any.whl (12.8 MB)\n",
      "     ---------------------------------------- 0.0/12.8 MB ? eta -:--:--\n",
      "     ----- ---------------------------------- 1.8/12.8 MB 11.2 MB/s eta 0:00:01\n",
      "     --------------- ------------------------ 5.0/12.8 MB 13.1 MB/s eta 0:00:01\n",
      "     -------------------- ------------------- 6.6/12.8 MB 11.2 MB/s eta 0:00:01\n",
      "     ------------------------- -------------- 8.1/12.8 MB 11.7 MB/s eta 0:00:01\n",
      "     ----------------------------- ---------- 9.4/12.8 MB 9.5 MB/s eta 0:00:01\n",
      "     ------------------------------------ --- 11.5/12.8 MB 9.5 MB/s eta 0:00:01\n",
      "     ---------------------------------------- 12.8/12.8 MB 9.0 MB/s eta 0:00:00\n",
      "\u001b[38;5;2m[+] Download and installation successful\u001b[0m\n",
      "You can now load the package via spacy.load('en_core_web_sm')\n"
     ]
    }
   ],
   "source": [
    "# Download English module\n",
    "\n",
    "!python -m spacy download en_core_web_sm"
   ]
  },
  {
   "cell_type": "code",
   "execution_count": 18,
   "id": "1e6d258a-85c4-464e-82cb-87f0d9d5731a",
   "metadata": {},
   "outputs": [],
   "source": [
    "# Load spacy English module\n",
    "NER = spacy.load(\"en_core_web_sm\")"
   ]
  },
  {
   "cell_type": "markdown",
   "id": "faa5ce21-2e68-4e3a-9f2f-3cdfddb7c7d7",
   "metadata": {},
   "source": [
    "# Load Alice in Wonderland book"
   ]
  },
  {
   "cell_type": "code",
   "execution_count": 19,
   "id": "d4a893cf-6921-4ea6-ae82-6249a4cb2a0f",
   "metadata": {},
   "outputs": [],
   "source": [
    "# load the book \n",
    "\n",
    "with open(\"alice_cleaned.txt\", \"r\", encoding=\"utf-8\") as f:\n",
    "   raw_text = f.read()"
   ]
  },
  {
   "cell_type": "code",
   "execution_count": 20,
   "id": "3474ff29-7646-401c-9f43-097de7304d3a",
   "metadata": {},
   "outputs": [],
   "source": [
    "# Clean citations and footnotes\n",
    "text = re.sub(r\"\\[\\d+\\]\", \"\", raw_text)  # Remove footnotes like [96]\n",
    "text = re.sub(r\"\\bab[A-Za-z]+\\s\\d{4}\\b\", \"\", text)  # Remove abAuthor 1994\n",
    "text = re.sub(r\"p{1,2}\\.?\\s?\\d+\", \"\", text)  # Remove 'p. 1' or 'pp. 2–3'\n",
    "text = re.sub(r\"[“”\\\"]\", \"\", text)  # Remove quotation marks\n",
    "text = re.sub(r\"[’‘]\", \"'\", text)  # Normalize apostrophes\n",
    "text = re.sub(r\"\\s{2,}\", \" \", text)  # Remove extra spaces"
   ]
  },
  {
   "cell_type": "code",
   "execution_count": 21,
   "id": "78fceef4-dfed-4461-9aec-64158c38ddb0",
   "metadata": {},
   "outputs": [],
   "source": [
    "# Step 3: Save the cleaned version\n",
    "with open(\"alice_cleaned_final.txt\", \"w\", encoding=\"utf-8\") as f:\n",
    "    f.write(text) "
   ]
  },
  {
   "cell_type": "code",
   "execution_count": 22,
   "id": "2a0e25fc-1f2d-47af-b2bd-90552db57717",
   "metadata": {},
   "outputs": [
    {
     "name": "stdout",
     "output_type": "stream",
     "text": [
      "Alices Adventures in Wonderland(also known asAlice in Wonderland) Englishchildrens novelbyLewis Carroll, a mathematicsdonat theUniversity of Oxford. It details the story of a girl namedAlicewho falls through a rabbit hole into a fantasy world ofanthropomorphiccreatures. It is seen as an example of theliterary nonsensegenre. The artist SirJohn Tennielprovided 42 wood-engraved illustrations for the book.\n",
      "It received positive reviews upon release and is now one of the best-known works ofVictorian l\n"
     ]
    }
   ],
   "source": [
    "print(text[:500])  # preview the cleaned output"
   ]
  },
  {
   "cell_type": "markdown",
   "id": "30bfd013-b706-464b-81c7-4a6e3996d736",
   "metadata": {},
   "source": [
    "### Text Preprocessing Observations\n",
    "\n",
    "Before applying Named Entity Recognition (NER), I examined the scraped text for quality and consistency.\n",
    "\n",
    "**Key Observations:**\n",
    "- The raw text contained unnecessary artifacts such as footnote markers like `[96]`, superscripts, and citation formats like `abSmith 1993`.\n",
    "- Some characters like curly quotes and special symbols were present.\n",
    "- Country names in the text appeared in various inconsistent formats, e.g., \"USA\", \"U.S.\", or \"Soviet Union\" instead of \"United States\" or \"Russia\".\n",
    "\n",
    "**Actions Taken:**\n",
    "- Removed citation markers and cleaned up formatting using regular expressions.\n",
    "- Normalized country names using a dictionary to map variations like \"USA\" → \"United States\", \"UK\" → \"United Kingdom\", and \"USSR\" → \"Russia\".\n",
    "- Verified that the entity list produced by NER was cleaned and consistent with the country reference list.\n",
    "\n",
    "This step ensures more accurate country-level relationship extraction in the following steps."
   ]
  },
  {
   "cell_type": "markdown",
   "id": "3b5257f7-8541-459b-ae4a-307460684269",
   "metadata": {},
   "source": [
    "# NER object "
   ]
  },
  {
   "cell_type": "code",
   "execution_count": 25,
   "id": "e1f116b5-f6ea-4cda-9256-eba4979f6403",
   "metadata": {},
   "outputs": [],
   "source": [
    "# Step 1: Load cleaned text\n",
    "with open(\"alice_cleaned.txt\", \"r\", encoding=\"utf-8\") as f:\n",
    "    cleaned_text = f.read()"
   ]
  },
  {
   "cell_type": "code",
   "execution_count": 26,
   "id": "170ded06-2732-41d7-92d2-0f9356995fa7",
   "metadata": {},
   "outputs": [],
   "source": [
    "nlp = spacy.load(\"en_core_web_sm\")\n",
    "doc = nlp(cleaned_text)"
   ]
  },
  {
   "cell_type": "markdown",
   "id": "b5245764-75d4-4c82-a84d-fa1b8ede8776",
   "metadata": {},
   "source": [
    "# Sentence-Level Entity Extraction"
   ]
  },
  {
   "cell_type": "code",
   "execution_count": 27,
   "id": "b59d0c17-ff73-450f-9d66-8c262583f473",
   "metadata": {},
   "outputs": [],
   "source": [
    "sentences = list(doc.sents)"
   ]
  },
  {
   "cell_type": "code",
   "execution_count": 28,
   "id": "6bcd4689-d91b-4f00-8be9-1f929b950ed8",
   "metadata": {},
   "outputs": [
    {
     "data": {
      "text/html": [
       "<div>\n",
       "<style scoped>\n",
       "    .dataframe tbody tr th:only-of-type {\n",
       "        vertical-align: middle;\n",
       "    }\n",
       "\n",
       "    .dataframe tbody tr th {\n",
       "        vertical-align: top;\n",
       "    }\n",
       "\n",
       "    .dataframe thead th {\n",
       "        text-align: right;\n",
       "    }\n",
       "</style>\n",
       "<table border=\"1\" class=\"dataframe\">\n",
       "  <thead>\n",
       "    <tr style=\"text-align: right;\">\n",
       "      <th></th>\n",
       "      <th>sentence</th>\n",
       "      <th>entities</th>\n",
       "    </tr>\n",
       "  </thead>\n",
       "  <tbody>\n",
       "    <tr>\n",
       "      <th>0</th>\n",
       "      <td>Alices Adventures in Wonderland(also known asA...</td>\n",
       "      <td>[Wonderland]</td>\n",
       "    </tr>\n",
       "    <tr>\n",
       "      <th>1</th>\n",
       "      <td>Englishchildrens novelbyLewis Carroll, a mathe...</td>\n",
       "      <td>[theUniversity, Oxford]</td>\n",
       "    </tr>\n",
       "    <tr>\n",
       "      <th>2</th>\n",
       "      <td>It details the story of a girl namedAlicewho f...</td>\n",
       "      <td>[]</td>\n",
       "    </tr>\n",
       "    <tr>\n",
       "      <th>3</th>\n",
       "      <td>It is seen as an example of theliterary nonsen...</td>\n",
       "      <td>[]</td>\n",
       "    </tr>\n",
       "    <tr>\n",
       "      <th>4</th>\n",
       "      <td>The artist SirJohn Tennielprovided 42 wood-eng...</td>\n",
       "      <td>[]</td>\n",
       "    </tr>\n",
       "  </tbody>\n",
       "</table>\n",
       "</div>"
      ],
      "text/plain": [
       "                                            sentence                 entities\n",
       "0  Alices Adventures in Wonderland(also known asA...             [Wonderland]\n",
       "1  Englishchildrens novelbyLewis Carroll, a mathe...  [theUniversity, Oxford]\n",
       "2  It details the story of a girl namedAlicewho f...                       []\n",
       "3  It is seen as an example of theliterary nonsen...                       []\n",
       "4  The artist SirJohn Tennielprovided 42 wood-eng...                       []"
      ]
     },
     "execution_count": 28,
     "metadata": {},
     "output_type": "execute_result"
    }
   ],
   "source": [
    "sentence_entities = []\n",
    "\n",
    "for sent in sentences:\n",
    "    entities = [ent.text for ent in sent.ents if ent.label_ == \"GPE\"]  # GPE = countries, cities, regions\n",
    "    sentence_entities.append({\n",
    "        \"sentence\": sent.text,\n",
    "        \"entities\": entities\n",
    "    })\n",
    "\n",
    "df_sentences = pd.DataFrame(sentence_entities)\n",
    "df_sentences.head() "
   ]
  },
  {
   "cell_type": "code",
   "execution_count": 29,
   "id": "c02b8013-3db6-4c21-985d-fe151ebe0e0a",
   "metadata": {},
   "outputs": [],
   "source": [
    "# Step: Normalize country names using a mapping dictionary\n",
    "normalization_dict = {\n",
    "    \"USA\": \"United States\",\n",
    "    \"U.S.A.\": \"United States\",\n",
    "    \"U.S.\": \"United States\",\n",
    "    \"UK\": \"United Kingdom\",\n",
    "    \"U.K.\": \"United Kingdom\",\n",
    "    \"USSR\": \"Russia\",\n",
    "    \"Soviet Union\": \"Russia\",\n",
    "    \"North Korea\": \"Korea, North\",\n",
    "    \"South Korea\": \"Korea, South\",\n",
    "    \"Republic of Korea\": \"Korea, South\",\n",
    "    \"Iran\": \"Iran, Islamic Republic of\",\n",
    "    \"Russia\": \"Russian Federation\"\n",
    "    # Add more mappings if needed\n",
    "}\n",
    "\n",
    "def normalize_entities(entities):\n",
    "    return [normalization_dict.get(ent, ent) for ent in entities]\n",
    "\n",
    "# Apply normalization\n",
    "df_sentences[\"normalized_entities\"] = df_sentences[\"entities\"].apply(normalize_entities)"
   ]
  },
  {
   "cell_type": "code",
   "execution_count": 30,
   "id": "86049b1e-1c0a-48e0-baba-15159f3b1a74",
   "metadata": {},
   "outputs": [],
   "source": [
    "# Normalize named entities\n",
    "def normalize_entities(entities):\n",
    "    return [normalization_dict.get(ent.lower(), ent.lower()) for ent in entities]\n",
    "\n",
    "# Apply normalization (assumes 'entities' column exists)\n",
    "df_sentences[\"normalized_entities\"] = df_sentences[\"entities\"].apply(normalize_entities)"
   ]
  },
  {
   "cell_type": "markdown",
   "id": "a2954527-11a9-4c47-9c1b-f6fb562c02ce",
   "metadata": {},
   "source": [
    "# Load Countries"
   ]
  },
  {
   "cell_type": "code",
   "execution_count": 31,
   "id": "dced1847-7708-41ad-9ce1-64eb51127711",
   "metadata": {},
   "outputs": [],
   "source": [
    "countries = [\n",
    "    \"united states\", \"united kingdom\", \"china\", \"russia\", \"germany\", \"france\",\n",
    "    \"japan\", \"india\", \"pakistan\", \"canada\", \"italy\", \"iran\", \"iraq\", \"egypt\",\n",
    "    \"israel\", \"spain\", \"mexico\", \"brazil\", \"australia\", \"afghanistan\"\n",
    "]"
   ]
  },
  {
   "cell_type": "code",
   "execution_count": 32,
   "id": "cae4cde8-9463-41d8-9fe8-cc660c1d6db7",
   "metadata": {},
   "outputs": [],
   "source": [
    "normalization_dict = {\n",
    "    \"usa\": \"united states\",\n",
    "    \"uk\": \"united kingdom\",\n",
    "    \"ussr\": \"russia\"\n",
    "    # Add more if needed\n",
    "}\n",
    "\n",
    "def normalize_entities(entities):\n",
    "    return [normalization_dict.get(ent.lower(), ent.lower()) for ent in entities]\n",
    "\n",
    "df_sentences[\"normalized_entities\"] = df_sentences[\"entities\"].apply(normalize_entities)"
   ]
  },
  {
   "cell_type": "code",
   "execution_count": 33,
   "id": "89ab2f85-45a3-4a41-86b8-52a0717a1d99",
   "metadata": {},
   "outputs": [],
   "source": [
    "df_sentences_filtered = df_sentences.copy()\n",
    "\n",
    "df_sentences_filtered[\"country_entities\"] = df_sentences_filtered[\"normalized_entities\"].apply(\n",
    "    lambda x: [ent for ent in x if ent in countries]\n",
    ")"
   ]
  },
  {
   "cell_type": "code",
   "execution_count": 34,
   "id": "f11aea8a-4c0b-4a61-bdbb-fc013ec09dbc",
   "metadata": {},
   "outputs": [
    {
     "data": {
      "text/html": [
       "<div>\n",
       "<style scoped>\n",
       "    .dataframe tbody tr th:only-of-type {\n",
       "        vertical-align: middle;\n",
       "    }\n",
       "\n",
       "    .dataframe tbody tr th {\n",
       "        vertical-align: top;\n",
       "    }\n",
       "\n",
       "    .dataframe thead th {\n",
       "        text-align: right;\n",
       "    }\n",
       "</style>\n",
       "<table border=\"1\" class=\"dataframe\">\n",
       "  <thead>\n",
       "    <tr style=\"text-align: right;\">\n",
       "      <th></th>\n",
       "      <th>sentence</th>\n",
       "      <th>entities</th>\n",
       "      <th>filtered</th>\n",
       "    </tr>\n",
       "  </thead>\n",
       "  <tbody>\n",
       "    <tr>\n",
       "      <th>163</th>\n",
       "      <td>,Alice in Wonderlandwas named among the icons ...</td>\n",
       "      <td>[Wonderlandwas, England]</td>\n",
       "      <td>[England]</td>\n",
       "    </tr>\n",
       "    <tr>\n",
       "      <th>170</th>\n",
       "      <td>A popular figure in Japan sincethe country ope...</td>\n",
       "      <td>[Japan]</td>\n",
       "      <td>[Japan]</td>\n",
       "    </tr>\n",
       "    <tr>\n",
       "      <th>193</th>\n",
       "      <td>Although the original production inHamburg, Ge...</td>\n",
       "      <td>[Germany]</td>\n",
       "      <td>[Germany]</td>\n",
       "    </tr>\n",
       "    <tr>\n",
       "      <th>195</th>\n",
       "      <td>It was performed frequently in England and the...</td>\n",
       "      <td>[England]</td>\n",
       "      <td>[England]</td>\n",
       "    </tr>\n",
       "    <tr>\n",
       "      <th>198</th>\n",
       "      <td>Gerald Barry one-actopera,Alices Adventures Un...</td>\n",
       "      <td>[France]</td>\n",
       "      <td>[France]</td>\n",
       "    </tr>\n",
       "  </tbody>\n",
       "</table>\n",
       "</div>"
      ],
      "text/plain": [
       "                                              sentence  \\\n",
       "163  ,Alice in Wonderlandwas named among the icons ...   \n",
       "170  A popular figure in Japan sincethe country ope...   \n",
       "193  Although the original production inHamburg, Ge...   \n",
       "195  It was performed frequently in England and the...   \n",
       "198  Gerald Barry one-actopera,Alices Adventures Un...   \n",
       "\n",
       "                     entities   filtered  \n",
       "163  [Wonderlandwas, England]  [England]  \n",
       "170                   [Japan]    [Japan]  \n",
       "193                 [Germany]  [Germany]  \n",
       "195                 [England]  [England]  \n",
       "198                  [France]   [France]  "
      ]
     },
     "execution_count": 34,
     "metadata": {},
     "output_type": "execute_result"
    }
   ],
   "source": [
    "df_entities = pd.DataFrame(sentence_entities)\n",
    "\n",
    "# Optional: save raw entity dataframe\n",
    "df_entities.to_csv(\"sentence_entities.csv\", index=False)\n",
    "\n",
    "# Load country list\n",
    "countries = ['India', 'China', 'France', 'Germany', 'United Kingdom', 'Russia', 'Italy', 'Japan', 'Spain', 'England', 'Pakistan']\n",
    "\n",
    "# Filter only relevant entities\n",
    "def filter_to_countries(entity_list):\n",
    "    return [e for e in entity_list if e in countries]\n",
    "\n",
    "df_entities[\"filtered\"] = df_entities[\"entities\"].apply(filter_to_countries)\n",
    "\n",
    "# Preview\n",
    "df_entities[df_entities[\"filtered\"].apply(lambda x: len(x) > 0)].head() "
   ]
  },
  {
   "cell_type": "markdown",
   "id": "9945ef6a-aba0-483a-ab2a-17637929d320",
   "metadata": {},
   "source": [
    "# Create Relationship Pairs"
   ]
  },
  {
   "cell_type": "code",
   "execution_count": 35,
   "id": "587a4f67-72d5-43ad-bef6-9dc23650df34",
   "metadata": {},
   "outputs": [],
   "source": [
    "normalization_dict = {\n",
    "    \"usa\": \"united states\",\n",
    "    \"uk\": \"united kingdom\",\n",
    "    \"ussr\": \"russia\"\n",
    "    # Add more if needed\n",
    "}\n",
    "\n",
    "def normalize_entities(entities):\n",
    "    return [normalization_dict.get(ent.lower(), ent.lower()) for ent in entities]\n",
    "\n",
    "df_sentences[\"normalized_entities\"] = df_sentences[\"entities\"].apply(normalize_entities)\n"
   ]
  },
  {
   "cell_type": "code",
   "execution_count": 36,
   "id": "cb69dfba-1921-4878-8fc5-230bdc5cb2d8",
   "metadata": {},
   "outputs": [],
   "source": [
    "df_sentences[\"filtered\"] = df_sentences[\"normalized_entities\"].apply(\n",
    "    lambda x: [ent for ent in x if ent in countries]\n",
    ")"
   ]
  },
  {
   "cell_type": "code",
   "execution_count": 37,
   "id": "68b65be3-7f2a-4d54-9cb4-890912eb6a7f",
   "metadata": {},
   "outputs": [
    {
     "data": {
      "text/html": [
       "<div>\n",
       "<style scoped>\n",
       "    .dataframe tbody tr th:only-of-type {\n",
       "        vertical-align: middle;\n",
       "    }\n",
       "\n",
       "    .dataframe tbody tr th {\n",
       "        vertical-align: top;\n",
       "    }\n",
       "\n",
       "    .dataframe thead th {\n",
       "        text-align: right;\n",
       "    }\n",
       "</style>\n",
       "<table border=\"1\" class=\"dataframe\">\n",
       "  <thead>\n",
       "    <tr style=\"text-align: right;\">\n",
       "      <th></th>\n",
       "      <th>source</th>\n",
       "      <th>target</th>\n",
       "    </tr>\n",
       "  </thead>\n",
       "  <tbody>\n",
       "    <tr>\n",
       "      <th>0</th>\n",
       "      <td>germany</td>\n",
       "      <td>france</td>\n",
       "    </tr>\n",
       "    <tr>\n",
       "      <th>1</th>\n",
       "      <td>france</td>\n",
       "      <td>australia</td>\n",
       "    </tr>\n",
       "    <tr>\n",
       "      <th>2</th>\n",
       "      <td>france</td>\n",
       "      <td>australia</td>\n",
       "    </tr>\n",
       "    <tr>\n",
       "      <th>3</th>\n",
       "      <td>australia</td>\n",
       "      <td>united kingdom</td>\n",
       "    </tr>\n",
       "    <tr>\n",
       "      <th>4</th>\n",
       "      <td>france</td>\n",
       "      <td>australia</td>\n",
       "    </tr>\n",
       "    <tr>\n",
       "      <th>5</th>\n",
       "      <td>australia</td>\n",
       "      <td>united kingdom</td>\n",
       "    </tr>\n",
       "    <tr>\n",
       "      <th>6</th>\n",
       "      <td>australia</td>\n",
       "      <td>united kingdom</td>\n",
       "    </tr>\n",
       "    <tr>\n",
       "      <th>7</th>\n",
       "      <td>australia</td>\n",
       "      <td>united kingdom</td>\n",
       "    </tr>\n",
       "    <tr>\n",
       "      <th>8</th>\n",
       "      <td>australia</td>\n",
       "      <td>united kingdom</td>\n",
       "    </tr>\n",
       "    <tr>\n",
       "      <th>9</th>\n",
       "      <td>germany</td>\n",
       "      <td>united states</td>\n",
       "    </tr>\n",
       "  </tbody>\n",
       "</table>\n",
       "</div>"
      ],
      "text/plain": [
       "      source          target\n",
       "0    germany          france\n",
       "1     france       australia\n",
       "2     france       australia\n",
       "3  australia  united kingdom\n",
       "4     france       australia\n",
       "5  australia  united kingdom\n",
       "6  australia  united kingdom\n",
       "7  australia  united kingdom\n",
       "8  australia  united kingdom\n",
       "9    germany   united states"
      ]
     },
     "execution_count": 37,
     "metadata": {},
     "output_type": "execute_result"
    }
   ],
   "source": [
    "relationships = []\n",
    "window_size = 5\n",
    "\n",
    "for i in range(df_sentences_filtered.index[-1]):\n",
    "    end_i = min(i + window_size, df_sentences_filtered.index[-1])\n",
    "    \n",
    "    countries_window = sum((df_sentences_filtered.loc[i:end_i, \"country_entities\"]), [])\n",
    "    \n",
    "    unique_countries = [countries_window[j] for j in range(len(countries_window))\n",
    "                        if j == 0 or countries_window[j] != countries_window[j - 1]]\n",
    "\n",
    "    if len(unique_countries) > 1:\n",
    "        for idx in range(len(unique_countries) - 1):\n",
    "            relationships.append({\n",
    "                \"source\": unique_countries[idx],\n",
    "                \"target\": unique_countries[idx + 1]\n",
    "            })\n",
    "\n",
    "relationships_df = pd.DataFrame(relationships)\n",
    "\n",
    "# Show results\n",
    "relationships_df.head(10)"
   ]
  },
  {
   "cell_type": "markdown",
   "id": "42e1bb65-bc01-408c-a61b-883b14942f98",
   "metadata": {},
   "source": [
    "# Add Value"
   ]
  },
  {
   "cell_type": "code",
   "execution_count": 38,
   "id": "8903fe59-edbd-4991-b351-80f67cdaadd1",
   "metadata": {
    "scrolled": true
   },
   "outputs": [
    {
     "data": {
      "text/html": [
       "<div>\n",
       "<style scoped>\n",
       "    .dataframe tbody tr th:only-of-type {\n",
       "        vertical-align: middle;\n",
       "    }\n",
       "\n",
       "    .dataframe tbody tr th {\n",
       "        vertical-align: top;\n",
       "    }\n",
       "\n",
       "    .dataframe thead th {\n",
       "        text-align: right;\n",
       "    }\n",
       "</style>\n",
       "<table border=\"1\" class=\"dataframe\">\n",
       "  <thead>\n",
       "    <tr style=\"text-align: right;\">\n",
       "      <th></th>\n",
       "      <th>source</th>\n",
       "      <th>target</th>\n",
       "      <th>value</th>\n",
       "    </tr>\n",
       "  </thead>\n",
       "  <tbody>\n",
       "    <tr>\n",
       "      <th>0</th>\n",
       "      <td>australia</td>\n",
       "      <td>spain</td>\n",
       "      <td>5</td>\n",
       "    </tr>\n",
       "    <tr>\n",
       "      <th>1</th>\n",
       "      <td>australia</td>\n",
       "      <td>united kingdom</td>\n",
       "      <td>5</td>\n",
       "    </tr>\n",
       "    <tr>\n",
       "      <th>3</th>\n",
       "      <td>france</td>\n",
       "      <td>japan</td>\n",
       "      <td>5</td>\n",
       "    </tr>\n",
       "    <tr>\n",
       "      <th>6</th>\n",
       "      <td>japan</td>\n",
       "      <td>australia</td>\n",
       "      <td>5</td>\n",
       "    </tr>\n",
       "    <tr>\n",
       "      <th>5</th>\n",
       "      <td>germany</td>\n",
       "      <td>united states</td>\n",
       "      <td>5</td>\n",
       "    </tr>\n",
       "    <tr>\n",
       "      <th>7</th>\n",
       "      <td>spain</td>\n",
       "      <td>israel</td>\n",
       "      <td>5</td>\n",
       "    </tr>\n",
       "    <tr>\n",
       "      <th>8</th>\n",
       "      <td>united states</td>\n",
       "      <td>france</td>\n",
       "      <td>5</td>\n",
       "    </tr>\n",
       "    <tr>\n",
       "      <th>2</th>\n",
       "      <td>france</td>\n",
       "      <td>australia</td>\n",
       "      <td>3</td>\n",
       "    </tr>\n",
       "    <tr>\n",
       "      <th>4</th>\n",
       "      <td>germany</td>\n",
       "      <td>france</td>\n",
       "      <td>1</td>\n",
       "    </tr>\n",
       "  </tbody>\n",
       "</table>\n",
       "</div>"
      ],
      "text/plain": [
       "          source          target  value\n",
       "0      australia           spain      5\n",
       "1      australia  united kingdom      5\n",
       "3         france           japan      5\n",
       "6          japan       australia      5\n",
       "5        germany   united states      5\n",
       "7          spain          israel      5\n",
       "8  united states          france      5\n",
       "2         france       australia      3\n",
       "4        germany          france      1"
      ]
     },
     "execution_count": 38,
     "metadata": {},
     "output_type": "execute_result"
    }
   ],
   "source": [
    "# Add a column for value (weight of connection)\n",
    "relationship_df = pd.DataFrame(relationships)\n",
    "relationship_df[\"value\"] = 1\n",
    "\n",
    "# Group by pair\n",
    "relationship_df = relationship_df.groupby([\"source\", \"target\"], as_index=False).sum()\n",
    "relationship_df.sort_values(\"value\", ascending=False).head(10)"
   ]
  },
  {
   "cell_type": "code",
   "execution_count": 49,
   "id": "b7e37301-7b9e-4f24-9e1d-b3654c0eef3e",
   "metadata": {
    "scrolled": true
   },
   "outputs": [],
   "source": [
    "relationships_df.to_csv(\"country_relationships.csv\", index=False)"
   ]
  },
  {
   "cell_type": "markdown",
   "id": "17e1a4d9-b6f1-46ed-a317-50d2c1f470b8",
   "metadata": {},
   "source": [
    "# Frequency check"
   ]
  },
  {
   "cell_type": "code",
   "execution_count": 37,
   "id": "a8aa840c-a7ac-45b6-a753-7ca873a5d043",
   "metadata": {},
   "outputs": [
    {
     "data": {
      "image/png": "[encoded data removed]",
      "text/plain": [
       "<Figure size 1000x500 with 1 Axes>"
      ]
     },
     "metadata": {},
     "output_type": "display_data"
    }
   ],
   "source": [
    "plt.figure(figsize=(10, 5))\n",
    "sns.barplot(x=top_mentions.values, y=top_mentions.index, palette=\"Blues_d\", hue=top_mentions.index, legend=False)\n",
    "plt.title(\"Top 10 Most Mentioned Countries in Relationships\")\n",
    "plt.xlabel(\"Mentions\")\n",
    "plt.ylabel(\"Country\")\n",
    "plt.tight_layout()\n",
    "plt.show()"
   ]
  },
  {
   "cell_type": "markdown",
   "id": "cf777d4f-bbd8-4771-9d17-8a5394a8e714",
   "metadata": {},
   "source": [
    "# Heatmap of Relationships (Source vs Target)"
   ]
  },
  {
   "cell_type": "code",
   "execution_count": 44,
   "id": "c74b2931-1fca-4e9f-9ea0-19c9a514867f",
   "metadata": {
    "scrolled": true
   },
   "outputs": [
    {
     "data": {
      "image/png": "[encoded data removed]",
      "text/plain": [
       "<Figure size 1200x800 with 2 Axes>"
      ]
     },
     "metadata": {},
     "output_type": "display_data"
    }
   ],
   "source": [
    "# Create pivot table for heatmap\n",
    "heatmap_data = relationships_df.pivot_table(index=\"source\", columns=\"target\", values=\"value\", fill_value=0)\n",
    "\n",
    "plt.figure(figsize=(12, 8))\n",
    "sns.heatmap(heatmap_data, cmap=\"Blues\", annot=False)\n",
    "plt.title(\"Heatmap of Country Co-occurrences\")\n",
    "plt.xlabel(\"Target Country\")\n",
    "plt.ylabel(\"Source Country\")\n",
    "plt.tight_layout()\n",
    "plt.show()\n"
   ]
  },
  {
   "cell_type": "code",
   "execution_count": null,
   "id": "dd5a5f81-5973-4de2-9b73-23180d9a30e8",
   "metadata": {},
   "outputs": [],
   "source": []
  }
 ],
 "metadata": {
  "kernelspec": {
   "display_name": "Python (20th_century)",
   "language": "python",
   "name": "20th_century"
  },
  "language_info": {
   "codemirror_mode": {
    "name": "ipython",
    "version": 3
   },
   "file_extension": ".py",
   "mimetype": "text/x-python",
   "name": "python",
   "nbconvert_exporter": "python",
   "pygments_lexer": "ipython3",
   "version": "3.10.16"
  }
 },
 "nbformat": 4,
 "nbformat_minor": 5
}
