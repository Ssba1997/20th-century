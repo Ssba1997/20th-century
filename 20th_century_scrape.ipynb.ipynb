{
 "cells": [
  {
   "cell_type": "code",
   "execution_count": 1,
   "id": "fda69587-6ff3-4c5c-946b-a96fa144d2c8",
   "metadata": {},
   "outputs": [
    {
     "name": "stdout",
     "output_type": "stream",
     "text": [
      "Timeline of 20th-century history - Wikipedia\n"
     ]
    }
   ],
   "source": [
    "from selenium import webdriver\n",
    "from bs4 import BeautifulSoup\n",
    "import time\n",
    "\n",
    "# Open browser with correct driver path\n",
    "driver = webdriver.Chrome(executable_path=r\"C:\\Users\\hp\\Documents\\20th-century\\chromedriver.exe\")\n",
    "\n",
    "# Visit the Wikipedia page\n",
    "url = \"https://en.wikipedia.org/wiki/Timeline_of_20th-century_history\"\n",
    "driver.get(url)\n",
    "\n",
    "# Wait for content to load\n",
    "time.sleep(3)\n",
    "\n",
    "# Parse the page with BeautifulSoup\n",
    "soup = BeautifulSoup(driver.page_source, \"html.parser\")\n",
    "\n",
    "# Close the browser\n",
    "driver.quit()\n",
    "\n",
    "# Confirm it worked\n",
    "print(soup.title.text)\n"
   ]
  },
  {
   "cell_type": "code",
   "execution_count": 2,
   "id": "fcdc9fee-a149-4ff4-a279-667dd096b088",
   "metadata": {},
   "outputs": [
    {
     "name": "stdout",
     "output_type": "stream",
     "text": [
      "Wiktionary(dictionary)\n",
      "Wikibooks(textbooks)\n",
      "Wikiquote(quotations)\n",
      "Wikisource(library)\n",
      "Wikiversity(learning resources)\n",
      "Commons(media)\n",
      "Wikivoyage(travel guide)\n",
      "Wikinews(news source)\n",
      "Wikidata(linked database)\n",
      "Wikispecies(species directory)\n",
      "You need tolog in or create an accountand beautoconfirmedto create new articles. Alternatively, you can use thearticle wizardto submit a draft for review, orrequest a new article.\n",
      "Search for \"Timeline of 20th-century history\"in existing articles.\n",
      "Look for pages within Wikipedia that link to this title.\n",
      "Other reasons this message may be displayed:\n",
      "If a page was recently created here, it may not be visible yet because of a delay in updating the database; wait a few minutes ortry the purge function.\n",
      "Titles on Wikipedia arecase sensitiveexcept for the first character; pleasecheck alternative capitalizationsand consider adding aredirecthere to the correct title.\n",
      "If the page has been deleted,check thedeletion log, and seeWhy was the page I created deleted?\n",
      "\n"
     ]
    }
   ],
   "source": [
    "# Extract the main content from the Wikipedia body\n",
    "content_div = soup.find('div', {'class': 'mw-parser-output'})\n",
    "\n",
    "# Get all paragraph and list items (some events are in <li>)\n",
    "all_text = \"\"\n",
    "for tag in content_div.find_all(['p', 'li']):\n",
    "    text = tag.get_text(strip=True)\n",
    "    if text:\n",
    "        all_text += text + \"\\n\"\n",
    "\n",
    "# Show the first few lines to confirm\n",
    "print(all_text[:1000])  # optional preview\n"
   ]
  },
  {
   "cell_type": "code",
   "execution_count": 3,
   "id": "551f3dfe-e6c4-4b37-bf6d-54151149f658",
   "metadata": {},
   "outputs": [
    {
     "name": "stdout",
     "output_type": "stream",
     "text": [
      "Text file saved successfully.\n"
     ]
    }
   ],
   "source": [
    "# Save text to file\n",
    "with open(\"20th_century_events.txt\", \"w\", encoding='utf-8') as file:\n",
    "    file.write(all_text)\n",
    "\n",
    "print(\"Text file saved successfully.\")\n"
   ]
  },
  {
   "cell_type": "code",
   "execution_count": 3,
   "id": "cb406076-9e05-4bc3-8fa8-25e9acadf151",
   "metadata": {},
   "outputs": [
    {
     "name": "stdout",
     "output_type": "stream",
     "text": [
      "Timeline of 20th-century history - Wikipedia\n"
     ]
    }
   ],
   "source": [
    "from selenium import webdriver\n",
    "from bs4 import BeautifulSoup\n",
    "import time\n",
    "\n",
    "driver = webdriver.Chrome(executable_path=r\"C:\\Users\\hp\\Documents\\20th-century\\chromedriver.exe\")\n",
    "url = \"https://en.wikipedia.org/wiki/Timeline_of_20th-century_history\"\n",
    "driver.get(url)\n",
    "time.sleep(3)\n",
    "\n",
    "soup = BeautifulSoup(driver.page_source, \"html.parser\")\n",
    "driver.quit()\n",
    "\n",
    "print(soup.title.text)  # just to confirm it works\n"
   ]
  },
  {
   "cell_type": "code",
   "execution_count": 4,
   "id": "ffc137df-068d-47ab-9869-04d8d7cc0ceb",
   "metadata": {},
   "outputs": [
    {
     "name": "stdout",
     "output_type": "stream",
     "text": [
      "Wiktionary(dictionary)\n",
      "Wikibooks(textbooks)\n",
      "Wikiquote(quotations)\n",
      "Wikisource(library)\n",
      "Wikiversity(learning resources)\n",
      "Commons(media)\n",
      "Wikivoyage(travel guide)\n",
      "Wikinews(news source)\n",
      "Wikidata(linked database)\n",
      "Wikispecies(species directory)\n",
      "You need tolog in or create an accountand beautoconfirmedto create new articles. Alternatively, you can use thearticle wizardto submit a draft for review, orrequest a new article.\n",
      "Search for \"Timeline of 20th-century history\"in existing articles.\n",
      "Look for pages w\n"
     ]
    }
   ],
   "source": [
    "# Extract main content from the Wikipedia page\n",
    "content_div = soup.find('div', {'class': 'mw-parser-output'})\n",
    "\n",
    "all_text = \"\"\n",
    "for tag in content_div.find_all(['p', 'li']):\n",
    "    text = tag.get_text(strip=True)\n",
    "    if text:\n",
    "        all_text += text + \"\\n\"\n",
    "\n",
    "print(all_text[:500])  # preview\n"
   ]
  },
  {
   "cell_type": "code",
   "execution_count": 5,
   "id": "6b4bea16-b126-419e-acf4-ce0353963c15",
   "metadata": {},
   "outputs": [
    {
     "name": "stdout",
     "output_type": "stream",
     "text": [
      "Text file saved successfully!\n"
     ]
    }
   ],
   "source": [
    "with open(\"20th_century_events.txt\", \"w\", encoding=\"utf-8\") as file:\n",
    "    file.write(all_text)\n",
    "\n",
    "print(\"Text file saved successfully!\")\n"
   ]
  },
  {
   "cell_type": "code",
   "execution_count": 6,
   "id": "23627fdd-ba7b-49f2-95e5-44dd20bb9a3c",
   "metadata": {},
   "outputs": [
    {
     "name": "stdout",
     "output_type": "stream",
     "text": [
      "C:\\Users\\hp\\Documents\\.ipynb_checkpoints\n"
     ]
    }
   ],
   "source": [
    "import os\n",
    "print(os.getcwd())\n"
   ]
  },
  {
   "cell_type": "code",
   "execution_count": null,
   "id": "db666785-7b1e-4c8c-b885-fb3feb258421",
   "metadata": {},
   "outputs": [],
   "source": []
  }
 ],
 "metadata": {
  "kernelspec": {
   "display_name": "20th_century",
   "language": "python",
   "name": "20th_century"
  },
  "language_info": {
   "codemirror_mode": {
    "name": "ipython",
    "version": 3
   },
   "file_extension": ".py",
   "mimetype": "text/x-python",
   "name": "python",
   "nbconvert_exporter": "python",
   "pygments_lexer": "ipython3",
   "version": "3.11.11"
  }
 },
 "nbformat": 4,
 "nbformat_minor": 5
}
