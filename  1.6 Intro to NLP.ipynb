{
 "cells": [
  {
   "cell_type": "markdown",
   "id": "c7c43e57-89d5-41dd-99f2-ccd97d865dde",
   "metadata": {},
   "source": [
    "# 1.6 Intro to NLP and Network Analysis"
   ]
  },
  {
   "cell_type": "code",
   "execution_count": 1,
   "id": "65c04d05-3a27-49a7-9c94-22965b23ab41",
   "metadata": {},
   "outputs": [],
   "source": [
    "# importlibraries\n",
    "import pandas as pd\n",
    "import numpy as np\n",
    "import spacy\n",
    "from spacy import displacy\n",
    "import networkx as nx\n",
    "import os\n",
    "import matplotlib.pyplot as plt\n",
    "import scipy\n",
    "import re"
   ]
  },
  {
   "cell_type": "code",
   "execution_count": 2,
   "id": "5a9f983e-6d42-45c3-b874-0d19595fb120",
   "metadata": {},
   "outputs": [
    {
     "name": "stdout",
     "output_type": "stream",
     "text": [
      "Collecting en-core-web-sm==3.8.0\n",
      "  Downloading https://github.com/explosion/spacy-models/releases/download/en_core_web_sm-3.8.0/en_core_web_sm-3.8.0-py3-none-any.whl (12.8 MB)\n",
      "     ---------------------------------------- 0.0/12.8 MB ? eta -:--:--\n",
      "     --- ------------------------------------ 1.0/12.8 MB 5.6 MB/s eta 0:00:03\n",
      "     -------------- ------------------------- 4.7/12.8 MB 12.4 MB/s eta 0:00:01\n",
      "     ---------------------- ----------------- 7.3/12.8 MB 14.2 MB/s eta 0:00:01\n",
      "     ------------------------------- ------- 10.5/12.8 MB 13.4 MB/s eta 0:00:01\n",
      "     --------------------------------------- 12.8/12.8 MB 14.1 MB/s eta 0:00:00\n",
      "\u001b[38;5;2m[+] Download and installation successful\u001b[0m\n",
      "You can now load the package via spacy.load('en_core_web_sm')\n"
     ]
    }
   ],
   "source": [
    "# Download English module\n",
    "\n",
    "!python -m spacy download en_core_web_sm"
   ]
  },
  {
   "cell_type": "code",
   "execution_count": 3,
   "id": "98557d0e-1f52-40ed-ad16-3d3647cb3ed3",
   "metadata": {},
   "outputs": [],
   "source": [
    "# Load spacy English module\n",
    "import spacy\n",
    "NER = spacy.load(\"en_core_web_sm\")"
   ]
  },
  {
   "cell_type": "markdown",
   "id": "f1f10db9-78bc-488c-8e3f-1c801dc83ea2",
   "metadata": {},
   "source": [
    "## Load Alice in Wonderland book"
   ]
  },
  {
   "cell_type": "code",
   "execution_count": 4,
   "id": "8d25813a-b4c4-4714-adda-1a440dde10b6",
   "metadata": {},
   "outputs": [],
   "source": [
    "# load the book \n",
    "\n",
    "with open(\"alice_cleaned.txt\", \"r\", encoding=\"utf-8\") as f:\n",
    "    text = f.read()"
   ]
  },
  {
   "cell_type": "code",
   "execution_count": 38,
   "id": "419ed2d8-be69-4d78-bafd-4fdd3f03e65c",
   "metadata": {},
   "outputs": [
    {
     "name": "stdout",
     "output_type": "stream",
     "text": [
      "Alices Adventures in Wonderland(also known asAlice in Wonderland) Englishchildrens novelbyLewis Carroll, a mathematicsdonat theUniversity of Oxford. It details the story of a girl namedAlicewho falls through a rabbit hole into a fantasy world ofanthropomorphiccreatures. It is seen as an example of theliterary nonsensegenre. The artist SirJohn Tennielprovided 42 wood-engraved illustrations for the book.\n",
      "It received positive reviews upon release and is now one of the best-known works ofVictorian l\n"
     ]
    }
   ],
   "source": [
    "# Optional: remove any leftover citations or strange characters\n",
    "text = re.sub(r\"\\[\\d+\\]\", \"\", text)  # [96], [23], etc.\n",
    "text = re.sub(r\"\\s{2,}\", \" \", text)  # extra spaces\n",
    "text = re.sub(r'“|”|\"', '', text)    # fancy or double quotes\n",
    "text = re.sub(r\"’\", \"'\", text)       # fancy apostrophes\n",
    "\n",
    "print(text[:500])  # preview the cleaned output"
   ]
  },
  {
   "cell_type": "markdown",
   "id": "68272f49-8b03-4fbc-810c-8c143cc999c9",
   "metadata": {},
   "source": [
    "#### The text appears to be relatively clean. We might still want to:\n",
    "####  -   Remove any extra whitespace or line breaks if present.\n",
    "text = \" \".join(text.split())  # Remove extra whitespace\n",
    "\n",
    "####  Observations:\n",
    "####  -   The text is in English.\n",
    "####  -   It seems to be mostly clean, but we've removed extra whitespace.\n",
    "####  -   No major inconsistencies in spelling that need correction."
   ]
  },
  {
   "cell_type": "markdown",
   "id": "d5d00fe0-b78a-4957-bedb-beb0e8883a87",
   "metadata": {},
   "source": [
    "## NER object"
   ]
  },
  {
   "cell_type": "code",
   "execution_count": 39,
   "id": "dccd554c-f170-49f0-9ee5-4bfc5208c8bc",
   "metadata": {},
   "outputs": [],
   "source": [
    "doc = nlp(text)"
   ]
  },
  {
   "cell_type": "markdown",
   "id": "e2b68510-3aac-4142-9b6e-57cb1ed2a0cf",
   "metadata": {},
   "source": [
    "## Extract Sentence Entities"
   ]
  },
  {
   "cell_type": "code",
   "execution_count": 8,
   "id": "f4dde3ab-6e19-47dd-ac9c-ea4ca3e8fdda",
   "metadata": {},
   "outputs": [],
   "source": [
    "sentence_entities = []\n",
    "for sent in doc.sents:\n",
    "    entities = [(ent.text, ent.label_) for ent in sent.ents]\n",
    "    sentence_entities.append({\"sentence\": sent.text, \"entities\": entities})\n",
    "\n",
    "#  sentence_entities is now a list of dictionaries, each containing a sentence and its entities."
   ]
  },
  {
   "cell_type": "code",
   "execution_count": 9,
   "id": "51e51ae6-be06-4eef-a7ec-38dda1d1660c",
   "metadata": {},
   "outputs": [
    {
     "name": "stdout",
     "output_type": "stream",
     "text": [
      "[{'sentence': 'Alices Adventures in Wonderland(also known asAlice in Wonderland)', 'entities': [('Wonderland', 'GPE')]}, {'sentence': 'Englishchildrens novelbyLewis Carroll, a mathematicsdonat theUniversity of Oxford.', 'entities': [('Carroll', 'ORG'), ('theUniversity', 'GPE'), ('Oxford', 'GPE')]}, {'sentence': 'It details the story of a girl namedAlicewho falls through a rabbit hole into a fantasy world ofanthropomorphiccreatures.', 'entities': []}, {'sentence': 'It is seen as an example of theliterary nonsensegenre.', 'entities': []}, {'sentence': 'The artist SirJohn Tennielprovided 42 wood-engraved illustrations for the book.', 'entities': [('SirJohn Tennielprovided', 'ORG'), ('42', 'CARDINAL')]}, {'sentence': 'It received positive reviews upon release and is now one of the best-known works ofVictorian literature; its narrative, structure, characters and imagery have had a widespread influence on popular culture and literature, especially in thefantasygenre.', 'entities': [('ofVictorian', 'NORP'), ('thefantasygenre', 'DATE')]}, {'sentence': 'It is credited as helping end an era ofdidacticisminchildrens literature, inaugurating an era in which writing for children aimed to delight or entertain.', 'entities': []}, {'sentence': 'The tale plays withlogic, giving the story lasting popularity with adults as well as with children.', 'entities': []}, {'sentence': 'The titular character Alice shares her name withAlice Liddell, a girl Carroll knew—scholars disagree about the extent to which the character was based upon her.', 'entities': [('Alice', 'ORG'), ('Liddell', 'PERSON'), ('Carroll', 'ORG')]}, {'sentence': 'The book has never been out of print andhas been translatedinto 174 languages.', 'entities': [('174', 'CARDINAL')]}]\n"
     ]
    }
   ],
   "source": [
    "# Print the head (first 10) of sentence_entities\n",
    "print(sentence_entities[:10]) "
   ]
  },
  {
   "cell_type": "markdown",
   "id": "837e504c-7e0f-422f-96b0-ffe896778140",
   "metadata": {},
   "source": [
    "## Load Countries"
   ]
  },
  {
   "cell_type": "code",
   "execution_count": 20,
   "id": "15610335-df7d-445a-bfcb-7a69742752bc",
   "metadata": {},
   "outputs": [],
   "source": [
    "countries = [\n",
    "    \"France\", \"Germany\", \"India\", \"Pakistan\", \"England\", \"China\", \"Russia\", \n",
    "    \"United Kingdom\", \"United States\", \"Australia\", \"Japan\", \"Italy\", \"Spain\"\n",
    "]"
   ]
  },
  {
   "cell_type": "markdown",
   "id": "5328440f-7af6-4716-b712-80f8724892cf",
   "metadata": {},
   "source": [
    "##  Store in DataFrame and Filter"
   ]
  },
  {
   "cell_type": "code",
   "execution_count": 37,
   "id": "5a823b47-b5db-4e52-8495-37412c2195c3",
   "metadata": {},
   "outputs": [
    {
     "data": {
      "text/html": [
       "<div>\n",
       "<style scoped>\n",
       "    .dataframe tbody tr th:only-of-type {\n",
       "        vertical-align: middle;\n",
       "    }\n",
       "\n",
       "    .dataframe tbody tr th {\n",
       "        vertical-align: top;\n",
       "    }\n",
       "\n",
       "    .dataframe thead th {\n",
       "        text-align: right;\n",
       "    }\n",
       "</style>\n",
       "<table border=\"1\" class=\"dataframe\">\n",
       "  <thead>\n",
       "    <tr style=\"text-align: right;\">\n",
       "      <th></th>\n",
       "      <th>sentence</th>\n",
       "      <th>entities</th>\n",
       "      <th>filtered</th>\n",
       "    </tr>\n",
       "  </thead>\n",
       "  <tbody>\n",
       "    <tr>\n",
       "      <th>163</th>\n",
       "      <td>,Alice in Wonderlandwas named among the icons ...</td>\n",
       "      <td>[Wonderlandwas, England]</td>\n",
       "      <td>[England]</td>\n",
       "    </tr>\n",
       "    <tr>\n",
       "      <th>170</th>\n",
       "      <td>A popular figure in Japan sincethe country ope...</td>\n",
       "      <td>[Japan]</td>\n",
       "      <td>[Japan]</td>\n",
       "    </tr>\n",
       "    <tr>\n",
       "      <th>193</th>\n",
       "      <td>Although the original production inHamburg, Ge...</td>\n",
       "      <td>[Germany]</td>\n",
       "      <td>[Germany]</td>\n",
       "    </tr>\n",
       "    <tr>\n",
       "      <th>195</th>\n",
       "      <td>It was performed frequently in England and the...</td>\n",
       "      <td>[England]</td>\n",
       "      <td>[England]</td>\n",
       "    </tr>\n",
       "    <tr>\n",
       "      <th>198</th>\n",
       "      <td>Gerald Barry one-actopera,Alices Adventures Un...</td>\n",
       "      <td>[France]</td>\n",
       "      <td>[France]</td>\n",
       "    </tr>\n",
       "  </tbody>\n",
       "</table>\n",
       "</div>"
      ],
      "text/plain": [
       "                                              sentence  \\\n",
       "163  ,Alice in Wonderlandwas named among the icons ...   \n",
       "170  A popular figure in Japan sincethe country ope...   \n",
       "193  Although the original production inHamburg, Ge...   \n",
       "195  It was performed frequently in England and the...   \n",
       "198  Gerald Barry one-actopera,Alices Adventures Un...   \n",
       "\n",
       "                     entities   filtered  \n",
       "163  [Wonderlandwas, England]  [England]  \n",
       "170                   [Japan]    [Japan]  \n",
       "193                 [Germany]  [Germany]  \n",
       "195                 [England]  [England]  \n",
       "198                  [France]   [France]  "
      ]
     },
     "execution_count": 37,
     "metadata": {},
     "output_type": "execute_result"
    }
   ],
   "source": [
    "df_entities = pd.DataFrame(sentence_entities)\n",
    "\n",
    "# Optional: save raw entity dataframe\n",
    "df_entities.to_csv(\"sentence_entities.csv\", index=False)\n",
    "\n",
    "# Load country list\n",
    "countries = ['India', 'China', 'France', 'Germany', 'USA', 'Russia', 'Italy', 'Japan', 'Spain', 'England', 'Pakistan']\n",
    "\n",
    "# Filter only relevant entities\n",
    "def filter_to_countries(entity_list):\n",
    "    return [e for e in entity_list if e in countries]\n",
    "\n",
    "df_entities[\"filtered\"] = df_entities[\"entities\"].apply(filter_to_countries)\n",
    "\n",
    "# Preview\n",
    "df_entities[df_entities[\"filtered\"].apply(lambda x: len(x) > 0)].head() "
   ]
  },
  {
   "cell_type": "markdown",
   "id": "742e124b-642f-4fed-b82c-533f2606e238",
   "metadata": {},
   "source": [
    "## Create Relationship Pairs"
   ]
  },
  {
   "cell_type": "code",
   "execution_count": 40,
   "id": "68c512d2-493b-4bbc-a0bc-13d76c6266f7",
   "metadata": {},
   "outputs": [
    {
     "data": {
      "text/html": [
       "<div>\n",
       "<style scoped>\n",
       "    .dataframe tbody tr th:only-of-type {\n",
       "        vertical-align: middle;\n",
       "    }\n",
       "\n",
       "    .dataframe tbody tr th {\n",
       "        vertical-align: top;\n",
       "    }\n",
       "\n",
       "    .dataframe thead th {\n",
       "        text-align: right;\n",
       "    }\n",
       "</style>\n",
       "<table border=\"1\" class=\"dataframe\">\n",
       "  <thead>\n",
       "    <tr style=\"text-align: right;\">\n",
       "      <th></th>\n",
       "      <th>source</th>\n",
       "      <th>target</th>\n",
       "    </tr>\n",
       "  </thead>\n",
       "  <tbody>\n",
       "    <tr>\n",
       "      <th>0</th>\n",
       "      <td>Germany</td>\n",
       "      <td>France</td>\n",
       "    </tr>\n",
       "    <tr>\n",
       "      <th>1</th>\n",
       "      <td>France</td>\n",
       "      <td>Australia</td>\n",
       "    </tr>\n",
       "    <tr>\n",
       "      <th>2</th>\n",
       "      <td>France</td>\n",
       "      <td>Australia</td>\n",
       "    </tr>\n",
       "    <tr>\n",
       "      <th>3</th>\n",
       "      <td>Australia</td>\n",
       "      <td>UK</td>\n",
       "    </tr>\n",
       "    <tr>\n",
       "      <th>4</th>\n",
       "      <td>France</td>\n",
       "      <td>Australia</td>\n",
       "    </tr>\n",
       "    <tr>\n",
       "      <th>5</th>\n",
       "      <td>Australia</td>\n",
       "      <td>UK</td>\n",
       "    </tr>\n",
       "    <tr>\n",
       "      <th>6</th>\n",
       "      <td>Australia</td>\n",
       "      <td>UK</td>\n",
       "    </tr>\n",
       "    <tr>\n",
       "      <th>7</th>\n",
       "      <td>Australia</td>\n",
       "      <td>UK</td>\n",
       "    </tr>\n",
       "    <tr>\n",
       "      <th>8</th>\n",
       "      <td>Australia</td>\n",
       "      <td>UK</td>\n",
       "    </tr>\n",
       "    <tr>\n",
       "      <th>9</th>\n",
       "      <td>Germany</td>\n",
       "      <td>United States</td>\n",
       "    </tr>\n",
       "  </tbody>\n",
       "</table>\n",
       "</div>"
      ],
      "text/plain": [
       "      source         target\n",
       "0    Germany         France\n",
       "1     France      Australia\n",
       "2     France      Australia\n",
       "3  Australia             UK\n",
       "4     France      Australia\n",
       "5  Australia             UK\n",
       "6  Australia             UK\n",
       "7  Australia             UK\n",
       "8  Australia             UK\n",
       "9    Germany  United States"
      ]
     },
     "execution_count": 40,
     "metadata": {},
     "output_type": "execute_result"
    }
   ],
   "source": [
    "relationships = []\n",
    "window_size = 5\n",
    "\n",
    "for i in range(df_sentences_filtered.index[-1]):\n",
    "    end_i = min(i + window_size, df_sentences_filtered.index[-1])\n",
    "    \n",
    "    countries_window = sum((df_sentences_filtered.loc[i:end_i, \"country_entities\"]), [])\n",
    "    \n",
    "    unique_countries = [countries_window[j] for j in range(len(countries_window))\n",
    "                        if j == 0 or countries_window[j] != countries_window[j - 1]]\n",
    "\n",
    "    if len(unique_countries) > 1:\n",
    "        for idx in range(len(unique_countries) - 1):\n",
    "            relationships.append({\n",
    "                \"source\": unique_countries[idx],\n",
    "                \"target\": unique_countries[idx + 1]\n",
    "            })\n",
    "\n",
    "relationships_df = pd.DataFrame(relationships)\n",
    "\n",
    "# Show results\n",
    "relationships_df.head(10)\n"
   ]
  },
  {
   "cell_type": "markdown",
   "id": "6181e466-fdc2-4cbd-8450-7fbd56136095",
   "metadata": {},
   "source": [
    "## Add Value"
   ]
  },
  {
   "cell_type": "code",
   "execution_count": 34,
   "id": "ef2327d5-03ea-4bb1-9480-ba4aac46a5e6",
   "metadata": {
    "scrolled": true
   },
   "outputs": [
    {
     "data": {
      "text/html": [
       "<div>\n",
       "<style scoped>\n",
       "    .dataframe tbody tr th:only-of-type {\n",
       "        vertical-align: middle;\n",
       "    }\n",
       "\n",
       "    .dataframe tbody tr th {\n",
       "        vertical-align: top;\n",
       "    }\n",
       "\n",
       "    .dataframe thead th {\n",
       "        text-align: right;\n",
       "    }\n",
       "</style>\n",
       "<table border=\"1\" class=\"dataframe\">\n",
       "  <thead>\n",
       "    <tr style=\"text-align: right;\">\n",
       "      <th></th>\n",
       "      <th>Source</th>\n",
       "      <th>Target</th>\n",
       "      <th>value</th>\n",
       "    </tr>\n",
       "  </thead>\n",
       "  <tbody>\n",
       "    <tr>\n",
       "      <th>0</th>\n",
       "      <td>Germany</td>\n",
       "      <td>France</td>\n",
       "      <td>1</td>\n",
       "    </tr>\n",
       "    <tr>\n",
       "      <th>1</th>\n",
       "      <td>Germany</td>\n",
       "      <td>Japan</td>\n",
       "      <td>1</td>\n",
       "    </tr>\n",
       "    <tr>\n",
       "      <th>2</th>\n",
       "      <td>Germany</td>\n",
       "      <td>Spain</td>\n",
       "      <td>1</td>\n",
       "    </tr>\n",
       "    <tr>\n",
       "      <th>3</th>\n",
       "      <td>France</td>\n",
       "      <td>Japan</td>\n",
       "      <td>1</td>\n",
       "    </tr>\n",
       "    <tr>\n",
       "      <th>4</th>\n",
       "      <td>France</td>\n",
       "      <td>Spain</td>\n",
       "      <td>1</td>\n",
       "    </tr>\n",
       "  </tbody>\n",
       "</table>\n",
       "</div>"
      ],
      "text/plain": [
       "    Source  Target  value\n",
       "0  Germany  France      1\n",
       "1  Germany   Japan      1\n",
       "2  Germany   Spain      1\n",
       "3   France   Japan      1\n",
       "4   France   Spain      1"
      ]
     },
     "execution_count": 34,
     "metadata": {},
     "output_type": "execute_result"
    }
   ],
   "source": [
    "# Add a column for value (weight of connection)\n",
    "df_relationships[\"value\"] = 1\n",
    "\n",
    "# Group by source and target to count frequency of relationships\n",
    "df_relationships = df_relationships.groupby([\"Source\", \"Target\"], sort=False, as_index=False).sum()\n",
    "\n",
    "# Preview top rows\n",
    "df_relationships.head()"
   ]
  },
  {
   "cell_type": "code",
   "execution_count": 41,
   "id": "4fe79f02-9c86-4f37-b293-cf1a563f4245",
   "metadata": {},
   "outputs": [],
   "source": [
    "# Save the relationships dataframe to CSV\n",
    "relationships_df.to_csv(\"country_relationships.csv\", index=False)\n"
   ]
  },
  {
   "cell_type": "markdown",
   "id": "74a5c92a-0007-4246-9fdd-64946025447f",
   "metadata": {},
   "source": [
    "## Frequency check"
   ]
  },
  {
   "cell_type": "code",
   "execution_count": 45,
   "id": "8ee56cfc-0bb4-43aa-953d-61a9188a14ea",
   "metadata": {
    "scrolled": true
   },
   "outputs": [
    {
     "data": {
      "image/png": "[encoded data removed]",
      "text/plain": [
       "<Figure size 1000x500 with 1 Axes>"
      ]
     },
     "metadata": {},
     "output_type": "display_data"
    }
   ],
   "source": [
    "# Combine Source and Target columns to get overall country mentions\n",
    "country_mentions = df_relationships[\"Source\"].tolist() + df_relationships[\"Target\"].tolist()\n",
    "country_counts = pd.Series(country_mentions).value_counts().head(10)\n",
    "\n",
    "# Plot with proper hue assignment to avoid future warning\n",
    "plt.figure(figsize=(10, 5))\n",
    "sns.barplot(\n",
    "    x=country_counts.values,\n",
    "    y=country_counts.index,\n",
    "    hue=country_counts.index,        # Assign hue as required\n",
    "    palette=\"Blues_d\",\n",
    "    dodge=False                      # Disable hue splitting\n",
    ")\n",
    "plt.xlabel(\"Number of Mentions\")\n",
    "plt.ylabel(\"Country\")\n",
    "plt.title(\"Top 05 Most Mentioned Countries in Relationships\")\n",
    "plt.legend([],[], frameon=False)     # Hide the legend\n",
    "plt.tight_layout()\n",
    "plt.show()"
   ]
  },
  {
   "cell_type": "code",
   "execution_count": null,
   "id": "f3cc9c0c-8193-4a3f-8942-1bb984c5175d",
   "metadata": {},
   "outputs": [],
   "source": []
  },
  {
   "cell_type": "code",
   "execution_count": null,
   "id": "e05d8dc4-d6b3-4abc-95d5-f03616bf891f",
   "metadata": {},
   "outputs": [],
   "source": []
  }
 ],
 "metadata": {
  "kernelspec": {
   "display_name": "Python (20th_century)",
   "language": "python",
   "name": "20th_century"
  },
  "language_info": {
   "codemirror_mode": {
    "name": "ipython",
    "version": 3
   },
   "file_extension": ".py",
   "mimetype": "text/x-python",
   "name": "python",
   "nbconvert_exporter": "python",
   "pygments_lexer": "ipython3",
   "version": "3.10.16"
  }
 },
 "nbformat": 4,
 "nbformat_minor": 5
}
